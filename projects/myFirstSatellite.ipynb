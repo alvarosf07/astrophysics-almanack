{
 "cells": [
  {
   "cell_type": "code",
   "execution_count": null,
   "metadata": {
    "scrolled": true
   },
   "outputs": [
    {
     "data": {
      "text/html": [
       "<div id=\"glowscript\" class=\"glowscript\"></div>"
      ],
      "text/plain": [
       "<IPython.core.display.HTML object>"
      ]
     },
     "metadata": {},
     "output_type": "display_data"
    },
    {
     "data": {
      "application/javascript": [
       "if (typeof Jupyter !== \"undefined\") { window.__context = { glowscript_container: $(\"#glowscript\").removeAttr(\"id\")};}else{ element.textContent = ' ';}"
      ],
      "text/plain": [
       "<IPython.core.display.Javascript object>"
      ]
     },
     "metadata": {},
     "output_type": "display_data"
    },
    {
     "data": {
      "text/html": [
       "<div id=\"glowscript\" class=\"glowscript\"></div>"
      ],
      "text/plain": [
       "<IPython.core.display.HTML object>"
      ]
     },
     "metadata": {},
     "output_type": "display_data"
    },
    {
     "data": {
      "application/javascript": [
       "if (typeof Jupyter !== \"undefined\") { window.__context = { glowscript_container: $(\"#glowscript\").removeAttr(\"id\")};}else{ element.textContent = ' ';}"
      ],
      "text/plain": [
       "<IPython.core.display.Javascript object>"
      ]
     },
     "metadata": {},
     "output_type": "display_data"
    },
    {
     "data": {
      "application/javascript": [
       "if (typeof Jupyter !== \"undefined\") {require.undef(\"nbextensions/vpython_libraries/glow.min\");}else{element.textContent = ' ';}"
      ],
      "text/plain": [
       "<IPython.core.display.Javascript object>"
      ]
     },
     "metadata": {},
     "output_type": "display_data"
    },
    {
     "data": {
      "application/javascript": [
       "if (typeof Jupyter !== \"undefined\") {require.undef(\"nbextensions/vpython_libraries/glowcomm\");}else{element.textContent = ' ';}"
      ],
      "text/plain": [
       "<IPython.core.display.Javascript object>"
      ]
     },
     "metadata": {},
     "output_type": "display_data"
    },
    {
     "data": {
      "application/javascript": [
       "if (typeof Jupyter !== \"undefined\") {require.undef(\"nbextensions/vpython_libraries/jquery-ui.custom.min\");}else{element.textContent = ' ';}"
      ],
      "text/plain": [
       "<IPython.core.display.Javascript object>"
      ]
     },
     "metadata": {},
     "output_type": "display_data"
    },
    {
     "data": {
      "application/javascript": [
       "if (typeof Jupyter !== \"undefined\") {require([\"nbextensions/vpython_libraries/glow.min\"], function(){console.log(\"GLOW LOADED\");});}else{element.textContent = ' ';}"
      ],
      "text/plain": [
       "<IPython.core.display.Javascript object>"
      ]
     },
     "metadata": {},
     "output_type": "display_data"
    },
    {
     "data": {
      "application/javascript": [
       "if (typeof Jupyter !== \"undefined\") {require([\"nbextensions/vpython_libraries/glowcomm\"], function(){console.log(\"GLOWCOMM LOADED\");});}else{element.textContent = ' ';}"
      ],
      "text/plain": [
       "<IPython.core.display.Javascript object>"
      ]
     },
     "metadata": {},
     "output_type": "display_data"
    },
    {
     "data": {
      "application/javascript": [
       "if (typeof Jupyter !== \"undefined\") {require([\"nbextensions/vpython_libraries/jquery-ui.custom.min\"], function(){console.log(\"JQUERY LOADED\");});}else{element.textContent = ' ';}"
      ],
      "text/plain": [
       "<IPython.core.display.Javascript object>"
      ]
     },
     "metadata": {},
     "output_type": "display_data"
    }
   ],
   "source": [
    "# This cell corresponds to the 3rd step of the practice: My First Satellite. \n",
    "# The program creates 3 satellites (LEO,MEO,GEO) orbiting the Earth.\n",
    "\n",
    "\n",
    "from __future__ import division, print_function\n",
    "from vpython import *\n",
    "\n",
    "# Right button drag or Ctrl-drag to rotate \"camera\" to view scene.\n",
    "# To zoom, drag with middle button or Alt/Option depressed, or use scroll wheel.\n",
    "#  On a two-button mouse, middle is left + right.\n",
    "\n",
    "scene=canvas(title=\"VPython Example\")\n",
    "\n",
    "G = 6.67e-11\n",
    "\n",
    "# First, we define the characteristics of the earth (initial position vector\n",
    "# radius, color, with/without trail, kind of trail, interval of refreshing)\n",
    "earth = sphere(pos=vector(0,0,0), radius=6.4e6, color=color.white, make_trail=True, trail_type='points', interval=10, retain=20,texture={'file':textures.earth})\n",
    "earth.mass = 5.98e24\n",
    "earth.p = vector(0, 0, 0) * earth.mass\n",
    "\n",
    "# We repeat the same process for the MEO satellite\n",
    "satellite = sphere(pos=vector(0,(6.4e6+20e6),0), radius=1e6, color=color.yellow,make_trail=True, retain=200)\n",
    "satellite.speed = vector((sqrt(G*earth.mass/(6.4e6+20e6))),0,0)\n",
    "\n",
    "# We repeat the same process for the LEO satellite\n",
    "satellite2 = sphere(pos=vector(0,(6.4e6+163e3),0), radius=1e6, color=color.red,make_trail=True, retain=20)\n",
    "satellite2.speed = vector((sqrt(G*earth.mass/(6.4e6+163e3))),0,0)\n",
    "\n",
    "# We repeat the same process for the GEO satellite\n",
    "satellite3 = sphere(pos=vector(0,(6.4e6+36e6),0), radius=1e6, color=color.green, make_trail=True, retain=200)\n",
    "satellite3.speed = vector((sqrt(G*earth.mass/(6.4e6+36e6))),0,0)\n",
    "\n",
    "# We start the infinite loop that will compute the star movement.\n",
    "# We first define the time interval (dt). Then the loop starts.\n",
    "dt = 10\n",
    "while True:\n",
    "    rate(100)\n",
    "    # Definition of r as the vector that indicates the difference of distances \n",
    "    r = earth.pos - satellite.pos\n",
    "    r2 = earth.pos - satellite2.pos\n",
    "    r3 = earth.pos - satellite3.pos\n",
    "    \n",
    "    # Calculation of the Force that the earth exerts over the satellite (Newton Equation)\n",
    "    F = (G * earth.mass * norm(r)) / (mag2(r)) # Units: Force/mass\n",
    "    F2 = (G * earth.mass * norm(r2)) / (mag2(r2)) # Units: Force/mass\n",
    "    F3 = (G * earth.mass * norm(r3)) / (mag2(r3)) # Units: Force/mass\n",
    "    \n",
    "    # Calculation of the speed vector of the satellites at each moment (dt)\n",
    "    satellite.speed = satellite.speed + F*dt \n",
    "    satellite2.speed = satellite2.speed + F2*dt\n",
    "    satellite3.speed = satellite3.speed + F3*dt\n",
    "    \n",
    "    # Calculation of the position of the satellite at each moment (dt)\n",
    "    satellite.pos = satellite.pos + (satellite.speed * dt)\n",
    "    satellite2.pos = satellite2.pos + (satellite2.speed * dt)\n",
    "    satellite3.pos = satellite3.pos + (satellite3.speed * dt)\n",
    "    \n"
   ]
  },
  {
   "cell_type": "code",
   "execution_count": 2,
   "metadata": {},
   "outputs": [
    {
     "data": {
      "text/html": [
       "<div id=\"glowscript\" class=\"glowscript\"></div>"
      ],
      "text/plain": [
       "<IPython.core.display.HTML object>"
      ]
     },
     "metadata": {},
     "output_type": "display_data"
    },
    {
     "data": {
      "application/javascript": [
       "if (typeof Jupyter !== \"undefined\") { window.__context = { glowscript_container: $(\"#glowscript\").removeAttr(\"id\")};}else{ element.textContent = ' ';}"
      ],
      "text/plain": [
       "<IPython.core.display.Javascript object>"
      ]
     },
     "metadata": {},
     "output_type": "display_data"
    }
   ],
   "source": [
    "# This cell corresponds to the first to the 5th step of the practice: Planet and Satellite Classes: a) Moon & Earth\n",
    "# The program creates a representation of the Earth and the Moon using classes\n",
    "\n",
    "from __future__ import division, print_function\n",
    "from vpython import *\n",
    "\n",
    "scene=canvas(title=\"Moon & Earth\")\n",
    "\n",
    "class Planet: #we define the new class for planets\n",
    "    def __init__ (self, mass, radius, position, color): #assign the input parameters of the planet\n",
    "        self.mass = mass\n",
    "        self.radius = radius\n",
    "        self.position = position\n",
    "        self.s = sphere (pos=position, radius=radius, color=color)\n",
    "\n",
    "# We call the classes and create the earth and the moon representations\n",
    "earth = Planet (5.98e24,6.4e6,vector(0,0,0),color.blue)\n",
    "moon = Planet (0.007346e24,1.736e6,vector(0,378e6+6.4e6,0),color.white)\n"
   ]
  },
  {
   "cell_type": "code",
   "execution_count": 6,
   "metadata": {
    "scrolled": false
   },
   "outputs": [
    {
     "data": {
      "text/html": [
       "<div id=\"glowscript\" class=\"glowscript\"></div>"
      ],
      "text/plain": [
       "<IPython.core.display.HTML object>"
      ]
     },
     "metadata": {},
     "output_type": "display_data"
    },
    {
     "data": {
      "application/javascript": [
       "if (typeof Jupyter !== \"undefined\") { window.__context = { glowscript_container: $(\"#glowscript\").removeAttr(\"id\")};}else{ element.textContent = ' ';}"
      ],
      "text/plain": [
       "<IPython.core.display.Javascript object>"
      ]
     },
     "metadata": {},
     "output_type": "display_data"
    },
    {
     "ename": "KeyboardInterrupt",
     "evalue": "",
     "output_type": "error",
     "traceback": [
      "\u001b[0;31m---------------------------------------------------------------------------\u001b[0m",
      "\u001b[0;31mKeyboardInterrupt\u001b[0m                         Traceback (most recent call last)",
      "\u001b[0;32m<ipython-input-6-d7a4a2576a25>\u001b[0m in \u001b[0;36m<module>\u001b[0;34m\u001b[0m\n\u001b[1;32m     57\u001b[0m \u001b[0mdt\u001b[0m\u001b[0;34m=\u001b[0m\u001b[0;36m10\u001b[0m\u001b[0;34m\u001b[0m\u001b[0;34m\u001b[0m\u001b[0m\n\u001b[1;32m     58\u001b[0m \u001b[0;32mwhile\u001b[0m \u001b[0;32mTrue\u001b[0m\u001b[0;34m:\u001b[0m\u001b[0;34m\u001b[0m\u001b[0;34m\u001b[0m\u001b[0m\n\u001b[0;32m---> 59\u001b[0;31m     \u001b[0mrate\u001b[0m\u001b[0;34m(\u001b[0m\u001b[0;36m100\u001b[0m\u001b[0;34m)\u001b[0m\u001b[0;34m\u001b[0m\u001b[0;34m\u001b[0m\u001b[0m\n\u001b[0m\u001b[1;32m     60\u001b[0m     \u001b[0mLEO\u001b[0m\u001b[0;34m.\u001b[0m\u001b[0mupdatePosition\u001b[0m \u001b[0;34m(\u001b[0m\u001b[0mdt\u001b[0m\u001b[0;34m)\u001b[0m\u001b[0;34m\u001b[0m\u001b[0;34m\u001b[0m\u001b[0m\n\u001b[1;32m     61\u001b[0m     \u001b[0mMEO\u001b[0m\u001b[0;34m.\u001b[0m\u001b[0mupdatePosition\u001b[0m \u001b[0;34m(\u001b[0m\u001b[0mdt\u001b[0m\u001b[0;34m)\u001b[0m\u001b[0;34m\u001b[0m\u001b[0;34m\u001b[0m\u001b[0m\n",
      "\u001b[0;32m/anaconda3/lib/python3.7/site-packages/vpython/rate_control.py\u001b[0m in \u001b[0;36m__call__\u001b[0;34m(self, N)\u001b[0m\n\u001b[1;32m    258\u001b[0m         \u001b[0mself\u001b[0m\u001b[0;34m.\u001b[0m\u001b[0mrval\u001b[0m \u001b[0;34m=\u001b[0m \u001b[0mN\u001b[0m\u001b[0;34m\u001b[0m\u001b[0;34m\u001b[0m\u001b[0m\n\u001b[1;32m    259\u001b[0m         \u001b[0;32mif\u001b[0m \u001b[0mself\u001b[0m\u001b[0;34m.\u001b[0m\u001b[0mrval\u001b[0m \u001b[0;34m<\u001b[0m \u001b[0;36m1\u001b[0m\u001b[0;34m:\u001b[0m \u001b[0;32mraise\u001b[0m \u001b[0mValueError\u001b[0m\u001b[0;34m(\u001b[0m\u001b[0;34m\"rate value must be greater than or equal to 1\"\u001b[0m\u001b[0;34m)\u001b[0m\u001b[0;34m\u001b[0m\u001b[0;34m\u001b[0m\u001b[0m\n\u001b[0;32m--> 260\u001b[0;31m         \u001b[0msuper\u001b[0m\u001b[0;34m(\u001b[0m\u001b[0m_RateKeeper2\u001b[0m\u001b[0;34m,\u001b[0m \u001b[0mself\u001b[0m\u001b[0;34m)\u001b[0m\u001b[0;34m.\u001b[0m\u001b[0m__call__\u001b[0m\u001b[0;34m(\u001b[0m\u001b[0mself\u001b[0m\u001b[0;34m.\u001b[0m\u001b[0mrval\u001b[0m\u001b[0;34m)\u001b[0m \u001b[0;31m## calls __call__ in rate_control.py\u001b[0m\u001b[0;34m\u001b[0m\u001b[0;34m\u001b[0m\u001b[0m\n\u001b[0m\u001b[1;32m    261\u001b[0m \u001b[0;34m\u001b[0m\u001b[0m\n\u001b[1;32m    262\u001b[0m \u001b[0;34m\u001b[0m\u001b[0m\n",
      "\u001b[0;32m/anaconda3/lib/python3.7/site-packages/vpython/rate_control.py\u001b[0m in \u001b[0;36m__call__\u001b[0;34m(self, maxRate)\u001b[0m\n\u001b[1;32m    212\u001b[0m             \u001b[0mdt\u001b[0m \u001b[0;34m=\u001b[0m \u001b[0mself\u001b[0m\u001b[0;34m.\u001b[0m\u001b[0mlastSleep\u001b[0m \u001b[0;34m+\u001b[0m \u001b[0mself\u001b[0m\u001b[0;34m.\u001b[0m\u001b[0mcalls\u001b[0m\u001b[0;34m*\u001b[0m\u001b[0;34m(\u001b[0m\u001b[0mself\u001b[0m\u001b[0;34m.\u001b[0m\u001b[0muserTime\u001b[0m \u001b[0;34m+\u001b[0m \u001b[0mself\u001b[0m\u001b[0;34m.\u001b[0m\u001b[0mcallTime\u001b[0m \u001b[0;34m+\u001b[0m \u001b[0mself\u001b[0m\u001b[0;34m.\u001b[0m\u001b[0mdelay\u001b[0m\u001b[0;34m)\u001b[0m \u001b[0;34m+\u001b[0m\u001b[0;31m \u001b[0m\u001b[0;31m\\\u001b[0m\u001b[0;34m\u001b[0m\u001b[0;34m\u001b[0m\u001b[0m\n\u001b[1;32m    213\u001b[0m                  \u001b[0mrenders\u001b[0m\u001b[0;34m*\u001b[0m\u001b[0mself\u001b[0m\u001b[0;34m.\u001b[0m\u001b[0mrenderTime\u001b[0m \u001b[0;34m+\u001b[0m \u001b[0msleeps\u001b[0m\u001b[0;34m*\u001b[0m\u001b[0mself\u001b[0m\u001b[0;34m.\u001b[0m\u001b[0minteractionPeriod\u001b[0m \u001b[0;34m-\u001b[0m \u001b[0m_clock\u001b[0m\u001b[0;34m(\u001b[0m\u001b[0;34m)\u001b[0m\u001b[0;34m\u001b[0m\u001b[0;34m\u001b[0m\u001b[0m\n\u001b[0;32m--> 214\u001b[0;31m             \u001b[0m_sleep\u001b[0m\u001b[0;34m(\u001b[0m\u001b[0mdt\u001b[0m\u001b[0;34m)\u001b[0m\u001b[0;34m\u001b[0m\u001b[0;34m\u001b[0m\u001b[0m\n\u001b[0m\u001b[1;32m    215\u001b[0m             \u001b[0mself\u001b[0m\u001b[0;34m.\u001b[0m\u001b[0mlastSleep\u001b[0m \u001b[0;34m=\u001b[0m \u001b[0m_clock\u001b[0m\u001b[0;34m(\u001b[0m\u001b[0;34m)\u001b[0m\u001b[0;34m\u001b[0m\u001b[0;34m\u001b[0m\u001b[0m\n\u001b[1;32m    216\u001b[0m             \u001b[0mself\u001b[0m\u001b[0;34m.\u001b[0m\u001b[0mcalls\u001b[0m \u001b[0;34m=\u001b[0m \u001b[0;36m0\u001b[0m\u001b[0;34m\u001b[0m\u001b[0;34m\u001b[0m\u001b[0m\n",
      "\u001b[0;32m/anaconda3/lib/python3.7/site-packages/vpython/rate_control.py\u001b[0m in \u001b[0;36m_sleep\u001b[0;34m(dt)\u001b[0m\n\u001b[1;32m     54\u001b[0m         \u001b[0mdtsleep\u001b[0m \u001b[0;34m=\u001b[0m \u001b[0mnticks\u001b[0m\u001b[0;34m*\u001b[0m\u001b[0m_tick\u001b[0m\u001b[0;34m\u001b[0m\u001b[0;34m\u001b[0m\u001b[0m\n\u001b[1;32m     55\u001b[0m         \u001b[0mt\u001b[0m \u001b[0;34m=\u001b[0m \u001b[0m_clock\u001b[0m\u001b[0;34m(\u001b[0m\u001b[0;34m)\u001b[0m\u001b[0;34m\u001b[0m\u001b[0;34m\u001b[0m\u001b[0m\n\u001b[0;32m---> 56\u001b[0;31m         \u001b[0mtime\u001b[0m\u001b[0;34m.\u001b[0m\u001b[0msleep\u001b[0m\u001b[0;34m(\u001b[0m\u001b[0mdtsleep\u001b[0m\u001b[0;34m)\u001b[0m\u001b[0;34m\u001b[0m\u001b[0;34m\u001b[0m\u001b[0m\n\u001b[0m\u001b[1;32m     57\u001b[0m         \u001b[0mt\u001b[0m \u001b[0;34m=\u001b[0m \u001b[0m_clock\u001b[0m\u001b[0;34m(\u001b[0m\u001b[0;34m)\u001b[0m\u001b[0;34m-\u001b[0m\u001b[0mt\u001b[0m\u001b[0;34m\u001b[0m\u001b[0;34m\u001b[0m\u001b[0m\n\u001b[1;32m     58\u001b[0m         \u001b[0mdt\u001b[0m \u001b[0;34m-=\u001b[0m \u001b[0mt\u001b[0m\u001b[0;34m\u001b[0m\u001b[0;34m\u001b[0m\u001b[0m\n",
      "\u001b[0;31mKeyboardInterrupt\u001b[0m: "
     ]
    }
   ],
   "source": [
    "# This cell corresponds to:\n",
    "#       - The 5th step of the practice: Planet and Satellite Classes: \n",
    "#.             b) Satellite Representation \n",
    "#       - The 6th step of the practice: Enhanced Satellite\n",
    "# The program represents three satellites (LEO,MEO,GEO) orbiting around Earth, using planet and satellite classes.\n",
    "# It also contains the enhanced version, where the satellites have wings and cones that represent the surface area \n",
    "# covered of the earth.\n",
    "\n",
    "from __future__ import division, print_function\n",
    "from vpython import *\n",
    "\n",
    "scene=canvas(title=\"Satellite\")\n",
    "\n",
    "class Planet: #we define the new class for planets\n",
    "    def __init__ (self, mass, radius, position, color): #assign the input parameters of the planet\n",
    "        self.mass = mass\n",
    "        self.radius = radius\n",
    "        self.position = position\n",
    "        self.s = sphere (pos=position, radius=radius, color=color,texture={'file':textures.earth})\n",
    "\n",
    "class Satellite: #we define the new class for planets\n",
    "    def __init__ (self, planet, speed, position, size, color, coverage_angle): #assign the input parameters of the satellite\n",
    "        self.planet = planet.position\n",
    "        self.speed = speed\n",
    "        self.position = position\n",
    "        self.size = size\n",
    "        self.color = color\n",
    "        self.angle = coverage_angle # The coverage angle indicates the angle of the cone that covers the surface of the Earth\n",
    "        self.s = sphere (pos=self.position, radius=self.size, color=self.color, make_trail=True, retain=80)\n",
    "        \n",
    "        # Representation of the wings of the satellite and the cone\n",
    "        self.wing = box (pos=self.position, axis=vector(self.position.x,0,0), length=self.size*8, height=self.size/5, width=self.size*2/3, up=vector(0,0,1))\n",
    "        self.cone = cone(pos=self.planet, axis=self.position, radius=(tan(self.angle*pi/360)*(position.y)),color=self.color,opacity=0.6)\n",
    "\n",
    "    def updatePosition(self,dt):\n",
    "        r = self.planet - self.position\n",
    "        F = (G * earth_mass * norm(r)) / (mag2(r)) # F/Unidad de Masa\n",
    "        self.speed = self.speed + F*dt\n",
    "        self.position = self.position + self.speed*dt\n",
    "        self.s.pos = self.position\n",
    "        self.wing.pos = self.position\n",
    "        self.cone.axis = self.position\n",
    "       \n",
    "G = 6.67e-11\n",
    "earth_position = vector (0,0,0)\n",
    "earth_mass = 5.98e24\n",
    "earth = Planet (earth_mass,6.4e6,earth_position,color.white)\n",
    "\n",
    "# We define first the LEO satellite    \n",
    "LEO_speed = vector((sqrt(G*earth_mass/(6.4e6+163e3))),0,0)\n",
    "LEO_position = vector(0,(6.4e6+163e4),0)\n",
    "LEO = Satellite (earth,LEO_speed,LEO_position,1e6,color.red,60) # We call the class satellite to plot the 3D Representation\n",
    "\n",
    "# We define then the MEO satellite \n",
    "MEO_speed = vector((sqrt(G*earth_mass/(6.4e6+20e6))),0,0)\n",
    "MEO_position = vector(0,(6.4e6+20e6),0)\n",
    "MEO = Satellite (earth,MEO_speed,MEO_position,1e6,color.yellow,12) # We call the class satellite to plot the 3D Representation\n",
    "\n",
    "# Finally we define the GEO satellite \n",
    "GEO_speed = vector((sqrt(G*earth_mass/(6.4e6+36e6))),0,0)\n",
    "GEO_position = vector(0,(6.4e6+36e6),0)\n",
    "GEO = Satellite (earth,GEO_speed,GEO_position,1e6,color.green,17) # We call the class satellite to plot the 3D Representation\n",
    "\n",
    "dt=10\n",
    "while True:\n",
    "    rate(100)\n",
    "    LEO.updatePosition (dt)\n",
    "    MEO.updatePosition (dt)\n",
    "    GEO.updatePosition (dt)\n",
    "\n",
    "    "
   ]
  },
  {
   "cell_type": "code",
   "execution_count": 9,
   "metadata": {},
   "outputs": [
    {
     "data": {
      "text/html": [
       "<div id=\"glowscript\" class=\"glowscript\"></div>"
      ],
      "text/plain": [
       "<IPython.core.display.HTML object>"
      ]
     },
     "metadata": {},
     "output_type": "display_data"
    },
    {
     "data": {
      "application/javascript": [
       "if (typeof Jupyter !== \"undefined\") { window.__context = { glowscript_container: $(\"#glowscript\").removeAttr(\"id\")};}else{ element.textContent = ' ';}"
      ],
      "text/plain": [
       "<IPython.core.display.Javascript object>"
      ]
     },
     "metadata": {},
     "output_type": "display_data"
    },
    {
     "ename": "KeyboardInterrupt",
     "evalue": "",
     "output_type": "error",
     "traceback": [
      "\u001b[0;31m---------------------------------------------------------------------------\u001b[0m",
      "\u001b[0;31mKeyboardInterrupt\u001b[0m                         Traceback (most recent call last)",
      "\u001b[0;32m<ipython-input-9-576ecd2da330>\u001b[0m in \u001b[0;36m<module>\u001b[0;34m\u001b[0m\n\u001b[1;32m     78\u001b[0m \u001b[0mdt\u001b[0m\u001b[0;34m=\u001b[0m\u001b[0;36m10\u001b[0m\u001b[0;34m\u001b[0m\u001b[0;34m\u001b[0m\u001b[0m\n\u001b[1;32m     79\u001b[0m \u001b[0;32mwhile\u001b[0m \u001b[0;32mTrue\u001b[0m\u001b[0;34m:\u001b[0m\u001b[0;34m\u001b[0m\u001b[0;34m\u001b[0m\u001b[0m\n\u001b[0;32m---> 80\u001b[0;31m     \u001b[0mrate\u001b[0m\u001b[0;34m(\u001b[0m\u001b[0;36m100\u001b[0m\u001b[0;34m)\u001b[0m\u001b[0;34m\u001b[0m\u001b[0;34m\u001b[0m\u001b[0m\n\u001b[0m\u001b[1;32m     81\u001b[0m     \u001b[0mMEO\u001b[0m\u001b[0;34m[\u001b[0m\u001b[0;36m1\u001b[0m\u001b[0;34m]\u001b[0m\u001b[0;34m.\u001b[0m\u001b[0mupdatePosition\u001b[0m \u001b[0;34m(\u001b[0m\u001b[0mdt\u001b[0m\u001b[0;34m)\u001b[0m\u001b[0;34m\u001b[0m\u001b[0;34m\u001b[0m\u001b[0m\n\u001b[1;32m     82\u001b[0m     \u001b[0mMEO\u001b[0m\u001b[0;34m[\u001b[0m\u001b[0;36m2\u001b[0m\u001b[0;34m]\u001b[0m\u001b[0;34m.\u001b[0m\u001b[0mupdatePosition\u001b[0m \u001b[0;34m(\u001b[0m\u001b[0mdt\u001b[0m\u001b[0;34m)\u001b[0m\u001b[0;34m\u001b[0m\u001b[0;34m\u001b[0m\u001b[0m\n",
      "\u001b[0;32m/anaconda3/lib/python3.7/site-packages/vpython/rate_control.py\u001b[0m in \u001b[0;36m__call__\u001b[0;34m(self, N)\u001b[0m\n\u001b[1;32m    258\u001b[0m         \u001b[0mself\u001b[0m\u001b[0;34m.\u001b[0m\u001b[0mrval\u001b[0m \u001b[0;34m=\u001b[0m \u001b[0mN\u001b[0m\u001b[0;34m\u001b[0m\u001b[0;34m\u001b[0m\u001b[0m\n\u001b[1;32m    259\u001b[0m         \u001b[0;32mif\u001b[0m \u001b[0mself\u001b[0m\u001b[0;34m.\u001b[0m\u001b[0mrval\u001b[0m \u001b[0;34m<\u001b[0m \u001b[0;36m1\u001b[0m\u001b[0;34m:\u001b[0m \u001b[0;32mraise\u001b[0m \u001b[0mValueError\u001b[0m\u001b[0;34m(\u001b[0m\u001b[0;34m\"rate value must be greater than or equal to 1\"\u001b[0m\u001b[0;34m)\u001b[0m\u001b[0;34m\u001b[0m\u001b[0;34m\u001b[0m\u001b[0m\n\u001b[0;32m--> 260\u001b[0;31m         \u001b[0msuper\u001b[0m\u001b[0;34m(\u001b[0m\u001b[0m_RateKeeper2\u001b[0m\u001b[0;34m,\u001b[0m \u001b[0mself\u001b[0m\u001b[0;34m)\u001b[0m\u001b[0;34m.\u001b[0m\u001b[0m__call__\u001b[0m\u001b[0;34m(\u001b[0m\u001b[0mself\u001b[0m\u001b[0;34m.\u001b[0m\u001b[0mrval\u001b[0m\u001b[0;34m)\u001b[0m \u001b[0;31m## calls __call__ in rate_control.py\u001b[0m\u001b[0;34m\u001b[0m\u001b[0;34m\u001b[0m\u001b[0m\n\u001b[0m\u001b[1;32m    261\u001b[0m \u001b[0;34m\u001b[0m\u001b[0m\n\u001b[1;32m    262\u001b[0m \u001b[0;34m\u001b[0m\u001b[0m\n",
      "\u001b[0;32m/anaconda3/lib/python3.7/site-packages/vpython/rate_control.py\u001b[0m in \u001b[0;36m__call__\u001b[0;34m(self, maxRate)\u001b[0m\n\u001b[1;32m    212\u001b[0m             \u001b[0mdt\u001b[0m \u001b[0;34m=\u001b[0m \u001b[0mself\u001b[0m\u001b[0;34m.\u001b[0m\u001b[0mlastSleep\u001b[0m \u001b[0;34m+\u001b[0m \u001b[0mself\u001b[0m\u001b[0;34m.\u001b[0m\u001b[0mcalls\u001b[0m\u001b[0;34m*\u001b[0m\u001b[0;34m(\u001b[0m\u001b[0mself\u001b[0m\u001b[0;34m.\u001b[0m\u001b[0muserTime\u001b[0m \u001b[0;34m+\u001b[0m \u001b[0mself\u001b[0m\u001b[0;34m.\u001b[0m\u001b[0mcallTime\u001b[0m \u001b[0;34m+\u001b[0m \u001b[0mself\u001b[0m\u001b[0;34m.\u001b[0m\u001b[0mdelay\u001b[0m\u001b[0;34m)\u001b[0m \u001b[0;34m+\u001b[0m\u001b[0;31m \u001b[0m\u001b[0;31m\\\u001b[0m\u001b[0;34m\u001b[0m\u001b[0;34m\u001b[0m\u001b[0m\n\u001b[1;32m    213\u001b[0m                  \u001b[0mrenders\u001b[0m\u001b[0;34m*\u001b[0m\u001b[0mself\u001b[0m\u001b[0;34m.\u001b[0m\u001b[0mrenderTime\u001b[0m \u001b[0;34m+\u001b[0m \u001b[0msleeps\u001b[0m\u001b[0;34m*\u001b[0m\u001b[0mself\u001b[0m\u001b[0;34m.\u001b[0m\u001b[0minteractionPeriod\u001b[0m \u001b[0;34m-\u001b[0m \u001b[0m_clock\u001b[0m\u001b[0;34m(\u001b[0m\u001b[0;34m)\u001b[0m\u001b[0;34m\u001b[0m\u001b[0;34m\u001b[0m\u001b[0m\n\u001b[0;32m--> 214\u001b[0;31m             \u001b[0m_sleep\u001b[0m\u001b[0;34m(\u001b[0m\u001b[0mdt\u001b[0m\u001b[0;34m)\u001b[0m\u001b[0;34m\u001b[0m\u001b[0;34m\u001b[0m\u001b[0m\n\u001b[0m\u001b[1;32m    215\u001b[0m             \u001b[0mself\u001b[0m\u001b[0;34m.\u001b[0m\u001b[0mlastSleep\u001b[0m \u001b[0;34m=\u001b[0m \u001b[0m_clock\u001b[0m\u001b[0;34m(\u001b[0m\u001b[0;34m)\u001b[0m\u001b[0;34m\u001b[0m\u001b[0;34m\u001b[0m\u001b[0m\n\u001b[1;32m    216\u001b[0m             \u001b[0mself\u001b[0m\u001b[0;34m.\u001b[0m\u001b[0mcalls\u001b[0m \u001b[0;34m=\u001b[0m \u001b[0;36m0\u001b[0m\u001b[0;34m\u001b[0m\u001b[0;34m\u001b[0m\u001b[0m\n",
      "\u001b[0;32m/anaconda3/lib/python3.7/site-packages/vpython/rate_control.py\u001b[0m in \u001b[0;36m_sleep\u001b[0;34m(dt)\u001b[0m\n\u001b[1;32m     60\u001b[0m         \u001b[0;32mreturn\u001b[0m\u001b[0;34m\u001b[0m\u001b[0;34m\u001b[0m\u001b[0m\n\u001b[1;32m     61\u001b[0m     \u001b[0mtend\u001b[0m \u001b[0;34m=\u001b[0m \u001b[0m_clock\u001b[0m\u001b[0;34m(\u001b[0m\u001b[0;34m)\u001b[0m\u001b[0;34m+\u001b[0m\u001b[0mdt\u001b[0m\u001b[0;34m\u001b[0m\u001b[0;34m\u001b[0m\u001b[0m\n\u001b[0;32m---> 62\u001b[0;31m     \u001b[0;32mwhile\u001b[0m \u001b[0m_clock\u001b[0m\u001b[0;34m(\u001b[0m\u001b[0;34m)\u001b[0m \u001b[0;34m<\u001b[0m \u001b[0mtend\u001b[0m\u001b[0;34m:\u001b[0m\u001b[0;34m\u001b[0m\u001b[0;34m\u001b[0m\u001b[0m\n\u001b[0m\u001b[1;32m     63\u001b[0m         \u001b[0;32mpass\u001b[0m\u001b[0;34m\u001b[0m\u001b[0;34m\u001b[0m\u001b[0m\n\u001b[1;32m     64\u001b[0m \u001b[0;34m\u001b[0m\u001b[0m\n",
      "\u001b[0;31mKeyboardInterrupt\u001b[0m: "
     ]
    }
   ],
   "source": [
    "# This cell corresponds to:\n",
    "#       - The 7th step of the practice: Constellation of Satellites \n",
    "# The program represents a constellation of 4 orbits with 3 satellites each, \n",
    "# all orbiting the Earth in orbits crossing over the poles\n",
    "\n",
    "from __future__ import division, print_function\n",
    "from vpython import *\n",
    "\n",
    "scene=canvas(title=\"Satellite Constellation\")\n",
    "    \n",
    "\n",
    "class Planet: #we define the new class for planets\n",
    "    def __init__ (self, mass, radius, position, color): #assign the input parameters of the planet\n",
    "        self.mass = mass\n",
    "        self.radius = radius\n",
    "        self.position = position\n",
    "        self.s = sphere (pos=position, radius=radius, color=color,texture={'file':textures.earth})\n",
    "\n",
    "class Satellite: #we define the new class for planets\n",
    "    def __init__ (self, planet, speed, position, size, color, coverage_angle): #assign the input parameters of the Satellite\n",
    "        self.planet = planet.position\n",
    "        self.speed = speed\n",
    "        self.position = position\n",
    "        self.size = size\n",
    "        self.color = color\n",
    "        self.angle = coverage_angle\n",
    "        self.s = sphere (pos=self.position, radius=self.size, color=self.color, make_trail=True, retain=80)\n",
    "                \n",
    "        self.wing = box (pos=self.position, axis=vector(self.position.x,0,0), length=self.size*8, height=self.size/5, width=self.size*2/3, up=vector(0,0,1))\n",
    "        self.cone = cone(pos=self.planet, axis=self.position, radius=(tan(self.angle*pi/360)*(mag(self.planet-self.position))),color=self.color,opacity=0.5)\n",
    "\n",
    "    def updatePosition(self,dt):\n",
    "        r = self.planet - self.position\n",
    "        F = (G * earth_mass * norm(r)) / (mag2(r)) # F/Unidad de Masa\n",
    "        self.speed = self.speed + F*dt\n",
    "        self.position = self.position + self.speed*dt\n",
    "        self.s.pos = self.position\n",
    "        self.wing.pos = self.position\n",
    "        self.cone.axis = self.position\n",
    "\n",
    "G = 6.67e-11\n",
    "earth_position = vector (0,0,0)\n",
    "earth_mass = 5.98e24\n",
    "earth = Planet (earth_mass,6.4e6,earth_position,color.white)\n",
    "\n",
    "# Definition of the original MEO  \n",
    "MEO_speed_original = (sqrt(G*earth_mass/(6.4e6+20e6)))*vector(1,0,0)\n",
    "MEO_position_original = vector(0,(6.4e6+20e6),0)\n",
    "\n",
    "# From the original MEO, we will define the rotation vectors\n",
    "number_orbit = 0\n",
    "number_satellite = 0\n",
    "rotation_orbit = [0,pi/4,pi/2,3*pi/4] # This vector rotates along \"y\" axis, to account for the 4 different orbits over the poles\n",
    "rotation_satellite = [0,120*pi/180,240*pi/180] # This vector rotates along \"z\" axis, to account for the 3 different satllites per orbit\n",
    "MEO = [0] # We create an empty list to save all the created satellites\n",
    "\n",
    "#  Now we create the loop that goes through every rotation angle \n",
    "#  (first all the orbits, then all satellites in each orbit)\n",
    "for angle_orbit in rotation_orbit:\n",
    "    number_orbit += 1 \n",
    "    #print (\"Orbit: \",number_orbit)\n",
    "    colour = [0,color.red,color.yellow,color.blue,color.green]\n",
    "    for angle_satellite in rotation_satellite:\n",
    "        number_satellite += 1\n",
    "        #print (\"Sat: \",number_satellite)\n",
    "        # We define the axis around which the satellites will rotate (they're perpendicular to the orbit plane)\n",
    "        rotation_axis = [0,vector(0,0,1),vector(-0.5,0,-0.5),vector(-1,0,0),vector(0.5,0,-0.5)]\n",
    "        # We first calculate the rotated position\n",
    "        MEO_position = rotate (MEO_position_original,angle=angle_orbit,axis=vector(0,1,0))\n",
    "        MEO_position = rotate (MEO_position,angle=angle_satellite,axis=rotation_axis[number_orbit])\n",
    "        # And then we compute the rotated speed\n",
    "        MEO_speed = rotate (MEO_speed_original,angle=angle_orbit,axis=vector(0,1,0))\n",
    "        MEO_speed = rotate (MEO_speed,angle=angle_satellite,axis=rotation_axis[number_orbit])\n",
    "        # Finally, we compute the satellite in 3D with the class previously deifned\n",
    "        MEO.append (Satellite (earth,MEO_speed,MEO_position,1e6,colour[number_orbit],12))\n",
    "        \n",
    "# Loop to update de position of all the satellites\n",
    "dt=10\n",
    "while True:\n",
    "    rate(100)\n",
    "    MEO[1].updatePosition (dt)\n",
    "    MEO[2].updatePosition (dt)\n",
    "    MEO[3].updatePosition (dt)\n",
    "    MEO[4].updatePosition (dt)\n",
    "    MEO[5].updatePosition (dt)\n",
    "    MEO[6].updatePosition (dt)\n",
    "    MEO[7].updatePosition (dt)\n",
    "    MEO[8].updatePosition (dt)\n",
    "    MEO[9].updatePosition (dt)\n",
    "    MEO[10].updatePosition (dt)\n",
    "    MEO[11].updatePosition (dt)\n",
    "    MEO[12].updatePosition (dt)\n",
    "    \n",
    "    \n",
    "    "
   ]
  },
  {
   "cell_type": "code",
   "execution_count": null,
   "metadata": {},
   "outputs": [],
   "source": []
  }
 ],
 "metadata": {
  "kernelspec": {
   "display_name": "VPython",
   "language": "python",
   "name": "vpython"
  },
  "language_info": {
   "codemirror_mode": {
    "name": "ipython",
    "version": 3
   },
   "file_extension": ".py",
   "mimetype": "text/x-python",
   "name": "python",
   "nbconvert_exporter": "python",
   "pygments_lexer": "ipython3",
   "version": "3.7.1"
  }
 },
 "nbformat": 4,
 "nbformat_minor": 2
}

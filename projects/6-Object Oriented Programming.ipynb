{
 "cells": [
  {
   "cell_type": "markdown",
   "metadata": {},
   "source": [
    "#  Objected Oriented Programming"
   ]
  },
  {
   "cell_type": "markdown",
   "metadata": {},
   "source": [
    "Strongly inspired from -- *A Python Course for the Humanities by Folgert Karsdorp and Maarten van Gompel*"
   ]
  },
  {
   "cell_type": "markdown",
   "metadata": {},
   "source": [
    "---"
   ]
  },
  {
   "cell_type": "markdown",
   "metadata": {},
   "source": [
    "In this notebook we will introduce a new programming paradigm: **Object Oriented Programming**. Object oriented programming is a data-centered programming paradigm that is based on the idea of grouping data and functions that act on particular data in so-called **classes**. A class can be seen as a complex data-type, a template if you will. Variables that are of that data type are said to be **objects** or **instances** of that class.\n"
   ]
  },
  {
   "cell_type": "markdown",
   "metadata": {},
   "source": [
    "An example will clarify things:"
   ]
  },
  {
   "cell_type": "code",
   "execution_count": 2,
   "metadata": {},
   "outputs": [],
   "source": [
    "class Person:\n",
    "    def __init__(self, name, age):\n",
    "        self.name = name\n",
    "        self.age = age"
   ]
  },
  {
   "cell_type": "markdown",
   "metadata": {},
   "source": [
    "Ok, several things happen here. Here we created a class Person with a function `__init__`. Functions that start with underscores are always special functions to Python which are connected with other built-in aspects of the language. The initialisation function will be called when an object of that initialised. Let's do so:"
   ]
  },
  {
   "cell_type": "code",
   "execution_count": 3,
   "metadata": {},
   "outputs": [
    {
     "name": "stdout",
     "output_type": "stream",
     "text": [
      "My name is Maarten\n",
      "My age is 30\n"
     ]
    }
   ],
   "source": [
    "author = Person(\"Maarten\", 30)\n",
    "print(\"My name is \" + author.name)\n",
    "print(\"My age is \" + str(author.age))"
   ]
  },
  {
   "cell_type": "markdown",
   "metadata": {},
   "source": [
    "Functions within a class are called **methods**. The initialisation method assigns the two parameters that are passed to variables that *belong to the object*, within a class definition the object is always represented by `self`.\n",
    "\n",
    "The first argument of a method is always `self`, and it will always point to the instance of the class. This first argument however is never explicitly specified when you call the method. It is implicitly passed by Python itself. That is why you see a discrepancy between the number of arguments in the instantiation and in the class definition.\n",
    "\n",
    "\n",
    "Any variable or methods in a class can be accessed using the period (`.`) syntax:\n",
    "\n",
    "    object.variable \n",
    "\n",
    "or:\n",
    "\n",
    "    object.method\n",
    "\n"
   ]
  },
  {
   "cell_type": "markdown",
   "metadata": {},
   "source": [
    "In the above example we printed the name and age. We can turn this into a method as well, thus allowing any person to introduce himself/herself. Let's extend our example:"
   ]
  },
  {
   "cell_type": "code",
   "execution_count": 4,
   "metadata": {},
   "outputs": [
    {
     "name": "stdout",
     "output_type": "stream",
     "text": [
      "My name is Maarten\n",
      "My age is 30\n"
     ]
    }
   ],
   "source": [
    "class Person:\n",
    "    def __init__(self, name, age):\n",
    "        self.name = name\n",
    "        self.age = age\n",
    "        \n",
    "        \n",
    "    def introduceyourself(self):\n",
    "        print(\"My name is \" + self.name)\n",
    "        print(\"My age is \" + str(self.age))\n",
    "        \n",
    "author = Person(\"Maarten\",30)\n",
    "author.introduceyourself()"
   ]
  },
  {
   "cell_type": "markdown",
   "metadata": {},
   "source": [
    "Do you see what happens here? Do you understand the role of `self` and notation with the period?"
   ]
  },
  {
   "cell_type": "markdown",
   "metadata": {},
   "source": [
    "Unbeknowst to you, we have already made use of countless objects and methods throughout this course. Things like strings, lists, sets, dictionaries are all objects! Isn't that a shock? :) The object oriented paradigm is ubiquitous in Python!"
   ]
  },
  {
   "cell_type": "markdown",
   "metadata": {},
   "source": [
    "#### Exercise"
   ]
  },
  {
   "cell_type": "markdown",
   "metadata": {},
   "source": [
    "Add a variable `gender` (a string) to the Person class and adapt the initialisation method accordingly. Also add a method `ismale()` that uses this new information and returns a boolean value (True/False).\n"
   ]
  },
  {
   "cell_type": "code",
   "execution_count": 28,
   "metadata": {},
   "outputs": [
    {
     "name": "stdout",
     "output_type": "stream",
     "text": [
      "My name is Maarten\n",
      "My age is 30\n",
      "True\n"
     ]
    }
   ],
   "source": [
    "#adapt the code:\n",
    "\n",
    "class Person:\n",
    "    def __init__(self, name, age, gender):\n",
    "        self.name = name\n",
    "        self.age = age\n",
    "        self.gender = gender\n",
    "    \n",
    "    def introduceyourself(self):\n",
    "        print(\"My name is \" + self.name)\n",
    "        print(\"My age is \" + str(self.age))\n",
    "    \n",
    "    def ismale(self):\n",
    "        print(\"male\"==self.gender)\n",
    "        \n",
    "author = Person(\"Maarten\",30,\"male\")\n",
    "author.introduceyourself()\n",
    "author.ismale()"
   ]
  },
  {
   "cell_type": "markdown",
   "metadata": {},
   "source": [
    "---"
   ]
  },
  {
   "cell_type": "markdown",
   "metadata": {},
   "source": [
    "### Inheritance *"
   ]
  },
  {
   "cell_type": "markdown",
   "metadata": {},
   "source": [
    "One of the neat things you can do with classes is that you can build more specialised classes on top of more generic classes. `Person` for instance is a rather generic concept. We can use this generic class to build a more specialised class `Teacher`, a person that teaches a course. If you use inheritance, everything that the parent class could do, the inherited class can do as well!\n",
    "\n",
    "The syntax for inheritance is as follows, do not confuse it with parameters in a function/method definition. We also add an extra method `stateprofession()` otherwise `Teacher` would be no different than `Person`:"
   ]
  },
  {
   "cell_type": "code",
   "execution_count": 55,
   "metadata": {},
   "outputs": [],
   "source": [
    "class Person:\n",
    "    def __init__(self, name, age):\n",
    "        self.name = name\n",
    "        self.age = age\n",
    "        \n",
    "    def introduceyourself(self):\n",
    "        print(\"My name is \" + self.name)\n",
    "        print(\"My age is \" + str(self.age))\n",
    " \n",
    "    def stateprofession(self):\n",
    "        print(\"I have no profession! :'(\")\n",
    "        \n",
    "class Teacher(Person): #this class inherits the class above!\n",
    "    def stateprofession(self):\n",
    "        print(\"I am a teacher!\")"
   ]
  },
  {
   "cell_type": "code",
   "execution_count": 56,
   "metadata": {},
   "outputs": [
    {
     "name": "stdout",
     "output_type": "stream",
     "text": [
      "My name is Maarten\n",
      "My age is 30\n",
      "I am a teacher!\n"
     ]
    }
   ],
   "source": [
    "author = Teacher(\"Maarten\",30)\n",
    "author.introduceyourself()\n",
    "author.stateprofession()"
   ]
  },
  {
   "cell_type": "markdown",
   "metadata": {},
   "source": [
    "#### Exercise"
   ]
  },
  {
   "cell_type": "markdown",
   "metadata": {},
   "source": [
    "If the class `Person` would have already had a method `stateprofession`, then it would have been overruled (we say *overloaded*) by the one in the `Teacher` class. Edit the example above, add a print like *\"I have no profession! :'(\"* and see that nothings changes"
   ]
  },
  {
   "cell_type": "markdown",
   "metadata": {},
   "source": [
    "---"
   ]
  },
  {
   "cell_type": "markdown",
   "metadata": {},
   "source": [
    "Instead of completely overloading a method, you can also call the method of the parent class. The following example contains modified versions of all methods, adds some extra methods and variables to keep track of the courses that are taught by the teacher. The edited methods call the method of the parent class the avoid repetition of code (one of the deadly sins of computer programming):"
   ]
  },
  {
   "cell_type": "code",
   "execution_count": 57,
   "metadata": {},
   "outputs": [
    {
     "name": "stdout",
     "output_type": "stream",
     "text": [
      "My name is Maarten\n",
      "My age is 30\n",
      "I am a teacher!\n",
      "I teach 1 course(s)\n",
      "I teach Python\n"
     ]
    }
   ],
   "source": [
    "class Teacher(Person): #this class inherits the class above!\n",
    "    def __init__(self, name, age):\n",
    "        self.courses = [] #initialise a new variable\n",
    "        super().__init__(name,age) #call the init of Person\n",
    "        \n",
    "    def stateprofession(self):\n",
    "        print(\"I am a teacher!\")        \n",
    "    \n",
    "    def introduceyourself(self):\n",
    "        super().introduceyourself() #call the introduceyourself() of the Person\n",
    "        self.stateprofession()\n",
    "        print(\"I teach \" + str(self.nrofcourses()) + \" course(s)\")\n",
    "        for course in self.courses:\n",
    "            print(\"I teach \" + course)\n",
    "      \n",
    "    def addcourse(self, course):\n",
    "        self.courses.append(course)\n",
    "        \n",
    "    def nrofcourses(self):\n",
    "        return len(self.courses)\n",
    "    \n",
    "    \n",
    "author = Teacher(\"Maarten\",30)\n",
    "author.addcourse(\"Python\")\n",
    "author.introduceyourself()\n"
   ]
  },
  {
   "cell_type": "markdown",
   "metadata": {},
   "source": [
    "---"
   ]
  },
  {
   "cell_type": "markdown",
   "metadata": {},
   "source": [
    "### Operator overloading"
   ]
  },
  {
   "cell_type": "markdown",
   "metadata": {},
   "source": [
    "If you write your own classes, you can define what needs to happen if an operator such as for example `+`,`/` or `<` is used on your class. You can also define what happens when the keyword `in` or built-in functions such as `len()` are you used with your class. This allows for a very elegant way of programming. Each of these operators and built-in functions have an associated method which you can overload. All of these methods start, like `__init__`, with a double underscore.\n"
   ]
  },
  {
   "cell_type": "markdown",
   "metadata": {},
   "source": [
    "For example. Let's allow comparison of tweets using the '<' and '>' operators. The methods for the opertors are respectively `__lt__` and `__gt__`, both take one argument, the other object to compare to. A tweet qualifies as greater than another if it is a newer, more recent, tweet:"
   ]
  },
  {
   "cell_type": "code",
   "execution_count": 65,
   "metadata": {},
   "outputs": [
    {
     "name": "stdout",
     "output_type": "stream",
     "text": [
      "True\n"
     ]
    }
   ],
   "source": [
    "class Tweet:\n",
    "    def __init__(self, message, time):\n",
    "        self.message = message\n",
    "        self.time = time # we will assume here that time is a numerical value\n",
    "        \n",
    "    def __lt__(self, other):\n",
    "        return self.time < other.time\n",
    "        \n",
    "    def __gt__(self, other):\n",
    "        return self.time > other.time    \n",
    "    \n",
    "\n",
    "oldtweet = Tweet(\"this is an old tweet\",20)\n",
    "newtweet = Tweet(\"this is a new tweet\",1000)\n",
    "print(newtweet > oldtweet)\n",
    "        "
   ]
  },
  {
   "cell_type": "markdown",
   "metadata": {},
   "source": [
    "You may not yet see much use in this, but consider for example the built-in function `sorted()`. Having such methods defined now means we can sort our tweets! And because we defined the methods `__lt__` and `__gt__` based on time. It will automatically sort them on time, from old to new:"
   ]
  },
  {
   "cell_type": "code",
   "execution_count": 84,
   "metadata": {},
   "outputs": [
    {
     "name": "stdout",
     "output_type": "stream",
     "text": [
      "<__main__.Tweet object at 0x10b4f8d30>\n",
      "this is an old tweet\n",
      "this is a new tweet\n"
     ]
    }
   ],
   "source": [
    "tweets = [newtweet,oldtweet]\n",
    "\n",
    "for tweet in sorted(tweets):\n",
    "    print(tweet.message)"
   ]
  },
  {
   "cell_type": "markdown",
   "metadata": {},
   "source": [
    "#### Exercise"
   ]
  },
  {
   "cell_type": "markdown",
   "metadata": {},
   "source": [
    "Remember the `in` keyword? Used checking items in lists and keys in dictionaries? To recap:"
   ]
  },
  {
   "cell_type": "code",
   "execution_count": 67,
   "metadata": {},
   "outputs": [
    {
     "name": "stdout",
     "output_type": "stream",
     "text": [
      "True\n"
     ]
    }
   ],
   "source": [
    "fruits = ['banana','pear','orange']\n",
    "print('pear' in fruits)"
   ]
  },
  {
   "cell_type": "markdown",
   "metadata": {},
   "source": [
    "Overloading this operator is done using the `__contains__` method. It takes as extra argument the item that is being searched for ('pear' in the above example). The method should return a boolean value. For tweets, let's implement support for the `in` operator and have it check whether a certain word is in the tweet."
   ]
  },
  {
   "cell_type": "code",
   "execution_count": 106,
   "metadata": {},
   "outputs": [
    {
     "name": "stdout",
     "output_type": "stream",
     "text": [
      "The word flushed appears in the tweet\n"
     ]
    }
   ],
   "source": [
    "class Tweet:\n",
    "    def __init__(self, message, time):\n",
    "        self.message = message\n",
    "        self.time = time\n",
    "\n",
    "    def __lt__(self, other):\n",
    "        return self.time < other.time\n",
    "        \n",
    "    def __contains__(self, word):\n",
    "        #Implement the method\n",
    "        return(word in self.message)\n",
    "\n",
    "tweet = \"I just flushed my toilet\"\n",
    "#now write code to check if the word \"flushed\" is in the tweet\n",
    "#and print something nice if that's the case\n",
    "word = \"flushed\"\n",
    "tweet_text = Tweet (tweet,20)\n",
    "if word in tweet_text:\n",
    "    print (\"The word\",word, \"appears in the tweet\")"
   ]
  },
  {
   "cell_type": "markdown",
   "metadata": {},
   "source": [
    "---\n"
   ]
  },
  {
   "cell_type": "markdown",
   "metadata": {},
   "source": [
    "---"
   ]
  },
  {
   "cell_type": "markdown",
   "metadata": {},
   "source": [
    "---"
   ]
  },
  {
   "cell_type": "markdown",
   "metadata": {},
   "source": [
    "<p><small><a rel=\"license\" href=\"http://creativecommons.org/licenses/by-sa/4.0/\"><img alt=\"Creative Commons License\" style=\"border-width:0\" src=\"https://i.creativecommons.org/l/by-sa/4.0/88x31.png\" /></a><br /><span xmlns:dct=\"http://purl.org/dc/terms/\" property=\"dct:title\">Python Programming for the Humanities</span> by <a xmlns:cc=\"http://creativecommons.org/ns#\" href=\"http://fbkarsdorp.github.io/python-course\" property=\"cc:attributionName\" rel=\"cc:attributionURL\">http://fbkarsdorp.github.io/python-course</a> is licensed under a <a rel=\"license\" href=\"http://creativecommons.org/licenses/by-sa/4.0/\">Creative Commons Attribution-ShareAlike 4.0 International License</a>. Based on a work at <a xmlns:dct=\"http://purl.org/dc/terms/\" href=\"https://github.com/fbkarsdorp/python-course\" rel=\"dct:source\">https://github.com/fbkarsdorp/python-course</a>.</small></p>"
   ]
  }
 ],
 "metadata": {
  "kernelspec": {
   "display_name": "Python 3",
   "language": "python",
   "name": "python3"
  },
  "language_info": {
   "codemirror_mode": {
    "name": "ipython",
    "version": 3
   },
   "file_extension": ".py",
   "mimetype": "text/x-python",
   "name": "python",
   "nbconvert_exporter": "python",
   "pygments_lexer": "ipython3",
   "version": "3.7.1"
  }
 },
 "nbformat": 4,
 "nbformat_minor": 1
}
